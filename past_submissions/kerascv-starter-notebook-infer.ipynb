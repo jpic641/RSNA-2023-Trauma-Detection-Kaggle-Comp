{
 "cells": [
  {
   "cell_type": "markdown",
   "id": "d05fbd45",
   "metadata": {
    "papermill": {
     "duration": 0.004581,
     "end_time": "2023-10-05T08:10:58.641197",
     "exception": false,
     "start_time": "2023-10-05T08:10:58.636616",
     "status": "completed"
    },
    "tags": []
   },
   "source": [
    "<center><img src=\"https://keras.io/img/logo-small.png\" alt=\"Keras logo\" width=\"100\"><br/>\n",
    "This starter notebook is provided by the Keras team.</center>"
   ]
  },
  {
   "cell_type": "markdown",
   "id": "6d7a5d3a",
   "metadata": {
    "papermill": {
     "duration": 0.003982,
     "end_time": "2023-10-05T08:10:58.649360",
     "exception": false,
     "start_time": "2023-10-05T08:10:58.645378",
     "status": "completed"
    },
    "tags": []
   },
   "source": [
    "# Inference Notebook\n",
    "\n",
    "# RSNA 2023 Abdominal Trauma Detection with [KerasCV](https://github.com/keras-team/keras-cv) and [KerasCore](https://github.com/keras-team/keras-core)\n",
    "\n",
    "This notebook walks you through how to submit to the RSNA 2023 Abdominal Trauma Detection competition.\n",
    "\n",
    "## Notebooks\n",
    "\n",
    "For this competition we have two starter notebook. This notebook (you are reading) infers on the trained model. To understand how the model was trained from scratch please visit the training kernel.\n",
    "\n",
    "1. [**Training Kernel**](https://www.kaggle.com/code/aritrag/kerascv-starter-notebook-train)\n",
    "2. [**Inference Kernel**](https://www.kaggle.com/code/aritrag/kerascv-starter-notebook-infer)\n",
    "\n",
    "**Note**: [KerasCV guides](https://keras.io/guides/keras_cv/) is the place to go for a deeper understanding of KerasCV individually."
   ]
  },
  {
   "cell_type": "markdown",
   "id": "ebe4c7c3",
   "metadata": {
    "papermill": {
     "duration": 0.003942,
     "end_time": "2023-10-05T08:10:58.657357",
     "exception": false,
     "start_time": "2023-10-05T08:10:58.653415",
     "status": "completed"
    },
    "tags": []
   },
   "source": [
    "# Imports and Setup\n",
    "\n",
    "Please install namex, keras-cv and keras-core for this notebook to work!\n",
    "\n",
    "Note: We will very soon have keras and keras models accessible from offline notebook =D "
   ]
  },
  {
   "cell_type": "code",
   "execution_count": 1,
   "id": "85dae00d",
   "metadata": {
    "execution": {
     "iopub.execute_input": "2023-10-05T08:10:58.666881Z",
     "iopub.status.busy": "2023-10-05T08:10:58.666499Z",
     "iopub.status.idle": "2023-10-05T08:12:40.841341Z",
     "shell.execute_reply": "2023-10-05T08:12:40.840163Z"
    },
    "papermill": {
     "duration": 102.182153,
     "end_time": "2023-10-05T08:12:40.843587",
     "exception": false,
     "start_time": "2023-10-05T08:10:58.661434",
     "status": "completed"
    },
    "tags": []
   },
   "outputs": [],
   "source": [
    "! pip install -q /kaggle/input/keras-cv-core-namex/namex-0.0.7-py3-none-any.whl\n",
    "! pip install -q /kaggle/input/keras-cv-core-namex/keras_core-0.1.4-py3-none-any.whl\n",
    "! pip install -q /kaggle/input/keras-cv-core-namex/keras_cv-0.6.1-py3-none-any.whl"
   ]
  },
  {
   "cell_type": "code",
   "execution_count": 2,
   "id": "4bed7faa",
   "metadata": {
    "execution": {
     "iopub.execute_input": "2023-10-05T08:12:40.853957Z",
     "iopub.status.busy": "2023-10-05T08:12:40.853678Z",
     "iopub.status.idle": "2023-10-05T08:13:04.593715Z",
     "shell.execute_reply": "2023-10-05T08:13:04.592828Z"
    },
    "papermill": {
     "duration": 23.74762,
     "end_time": "2023-10-05T08:13:04.595807",
     "exception": false,
     "start_time": "2023-10-05T08:12:40.848187",
     "status": "completed"
    },
    "tags": []
   },
   "outputs": [
    {
     "name": "stdout",
     "output_type": "stream",
     "text": [
      "Using TensorFlow backend\n"
     ]
    },
    {
     "name": "stderr",
     "output_type": "stream",
     "text": [
      "/opt/conda/lib/python3.10/site-packages/scipy/__init__.py:146: UserWarning: A NumPy version >=1.16.5 and <1.23.0 is required for this version of SciPy (detected version 1.23.5\n",
      "  warnings.warn(f\"A NumPy version >={np_minversion} and <{np_maxversion}\"\n"
     ]
    }
   ],
   "source": [
    "import os\n",
    "os.environ[\"KERAS_BACKEND\"] = \"tensorflow\"\n",
    "import keras_core as keras\n",
    "import keras_cv\n",
    "\n",
    "import gc\n",
    "import cv2\n",
    "import pydicom\n",
    "from joblib import Parallel, delayed\n",
    "\n",
    "import tensorflow as tf\n",
    "import numpy as np\n",
    "import pandas as pd\n",
    "from tqdm.notebook import tqdm\n",
    "from glob import glob"
   ]
  },
  {
   "cell_type": "code",
   "execution_count": 3,
   "id": "9d323cf0",
   "metadata": {
    "execution": {
     "iopub.execute_input": "2023-10-05T08:13:04.606115Z",
     "iopub.status.busy": "2023-10-05T08:13:04.605661Z",
     "iopub.status.idle": "2023-10-05T08:13:04.610221Z",
     "shell.execute_reply": "2023-10-05T08:13:04.609298Z"
    },
    "papermill": {
     "duration": 0.011469,
     "end_time": "2023-10-05T08:13:04.611868",
     "exception": false,
     "start_time": "2023-10-05T08:13:04.600399",
     "status": "completed"
    },
    "tags": []
   },
   "outputs": [],
   "source": [
    "BASE_PATH = \"/kaggle/input/rsna-2023-abdominal-trauma-detection\"\n",
    "IMAGE_DIR = \"/tmp/dataset/rsna-atd\"\n",
    "INPUT_MODEL_PATH = \"/kaggle/input/k/jaredjordan/kerascv-starter-notebook-train/rsna-atd_v2.keras\"\n",
    "MODEL_PATH = \"/kaggle/working/rsna-atd_v2.keras\"\n",
    "STRIDE = 10"
   ]
  },
  {
   "cell_type": "code",
   "execution_count": 4,
   "id": "571c3ef8",
   "metadata": {
    "execution": {
     "iopub.execute_input": "2023-10-05T08:13:04.621783Z",
     "iopub.status.busy": "2023-10-05T08:13:04.621041Z",
     "iopub.status.idle": "2023-10-05T08:13:04.625866Z",
     "shell.execute_reply": "2023-10-05T08:13:04.625134Z"
    },
    "papermill": {
     "duration": 0.011587,
     "end_time": "2023-10-05T08:13:04.627673",
     "exception": false,
     "start_time": "2023-10-05T08:13:04.616086",
     "status": "completed"
    },
    "tags": []
   },
   "outputs": [],
   "source": [
    "class Config:\n",
    "    IMAGE_SIZE = [256, 256]\n",
    "    RESIZE_DIM = 256\n",
    "    BATCH_SIZE = 64\n",
    "    AUTOTUNE = tf.data.AUTOTUNE\n",
    "    TARGET_COLS  = [\"bowel_healthy\", \"bowel_injury\", \"extravasation_healthy\",\n",
    "                   \"extravasation_injury\", \"kidney_healthy\", \"kidney_low\",\n",
    "                   \"kidney_high\", \"liver_healthy\", \"liver_low\", \"liver_high\",\n",
    "                   \"spleen_healthy\", \"spleen_low\", \"spleen_high\"]\n",
    "\n",
    "config = Config()"
   ]
  },
  {
   "cell_type": "markdown",
   "id": "ef04ffb9",
   "metadata": {
    "papermill": {
     "duration": 0.00405,
     "end_time": "2023-10-05T08:13:04.636200",
     "exception": false,
     "start_time": "2023-10-05T08:13:04.632150",
     "status": "completed"
    },
    "tags": []
   },
   "source": [
    "# Initialize the Trained Model\n",
    "\n",
    "Refer to the [training kernel](https://www.kaggle.com/code/aritrag/kerascv-starter-notebook-train) to understand how we have trained the model.\n",
    "\n",
    "Here we initialize the trained model."
   ]
  },
  {
   "cell_type": "code",
   "execution_count": 5,
   "id": "f7eb656f",
   "metadata": {
    "execution": {
     "iopub.execute_input": "2023-10-05T08:13:04.645808Z",
     "iopub.status.busy": "2023-10-05T08:13:04.645280Z",
     "iopub.status.idle": "2023-10-05T08:13:31.660668Z",
     "shell.execute_reply": "2023-10-05T08:13:31.659728Z"
    },
    "papermill": {
     "duration": 27.022021,
     "end_time": "2023-10-05T08:13:31.662380",
     "exception": false,
     "start_time": "2023-10-05T08:13:04.640359",
     "status": "completed"
    },
    "tags": []
   },
   "outputs": [
    {
     "data": {
      "text/html": [
       "<pre style=\"white-space:pre;overflow-x:auto;line-height:normal;font-family:Menlo,'DejaVu Sans Mono',consolas,'Courier New',monospace\"><span style=\"font-weight: bold\">Model: \"functional_1\"</span>\n",
       "</pre>\n"
      ],
      "text/plain": [
       "\u001b[1mModel: \"functional_1\"\u001b[0m\n"
      ]
     },
     "metadata": {},
     "output_type": "display_data"
    },
    {
     "data": {
      "text/html": [
       "<pre style=\"white-space:pre;overflow-x:auto;line-height:normal;font-family:Menlo,'DejaVu Sans Mono',consolas,'Courier New',monospace\">┏━━━━━━━━━━━━━━━━━━━━━┳━━━━━━━━━━━━━━━━━━━┳━━━━━━━━━┳━━━━━━━━━━━━━━━━━━━━━━┓\n",
       "┃<span style=\"font-weight: bold\"> Layer (type)        </span>┃<span style=\"font-weight: bold\"> Output Shape      </span>┃<span style=\"font-weight: bold\"> Param # </span>┃<span style=\"font-weight: bold\"> Connected to         </span>┃\n",
       "┡━━━━━━━━━━━━━━━━━━━━━╇━━━━━━━━━━━━━━━━━━━╇━━━━━━━━━╇━━━━━━━━━━━━━━━━━━━━━━┩\n",
       "│ input_layer         │ (<span style=\"color: #00af00; text-decoration-color: #00af00\">32</span>, <span style=\"color: #00af00; text-decoration-color: #00af00\">256</span>, <span style=\"color: #00af00; text-decoration-color: #00af00\">256</span>, <span style=\"color: #00af00; text-decoration-color: #00af00\">3</span>) │       <span style=\"color: #00af00; text-decoration-color: #00af00\">0</span> │ -                    │\n",
       "│ (<span style=\"color: #0087ff; text-decoration-color: #0087ff\">InputLayer</span>)        │                   │         │                      │\n",
       "├─────────────────────┼───────────────────┼─────────┼──────────────────────┤\n",
       "│ res_net_backbone    │ (<span style=\"color: #00af00; text-decoration-color: #00af00\">32</span>, <span style=\"color: #00af00; text-decoration-color: #00af00\">8</span>, <span style=\"color: #00af00; text-decoration-color: #00af00\">8</span>, <span style=\"color: #00af00; text-decoration-color: #00af00\">2048</span>)  │ <span style=\"color: #00af00; text-decoration-color: #00af00\">23,561…</span> │ input_layer[<span style=\"color: #00af00; text-decoration-color: #00af00\">0</span>][<span style=\"color: #00af00; text-decoration-color: #00af00\">0</span>]    │\n",
       "│ (<span style=\"color: #0087ff; text-decoration-color: #0087ff\">ResNetBackbone</span>)    │                   │         │                      │\n",
       "├─────────────────────┼───────────────────┼─────────┼──────────────────────┤\n",
       "│ global_average_poo… │ (<span style=\"color: #00af00; text-decoration-color: #00af00\">32</span>, <span style=\"color: #00af00; text-decoration-color: #00af00\">2048</span>)        │       <span style=\"color: #00af00; text-decoration-color: #00af00\">0</span> │ res_net_backbone[<span style=\"color: #00af00; text-decoration-color: #00af00\">0</span>]… │\n",
       "│ (<span style=\"color: #0087ff; text-decoration-color: #0087ff\">GlobalAveragePool…</span> │                   │         │                      │\n",
       "├─────────────────────┼───────────────────┼─────────┼──────────────────────┤\n",
       "│ dense (<span style=\"color: #0087ff; text-decoration-color: #0087ff\">Dense</span>)       │ (<span style=\"color: #00af00; text-decoration-color: #00af00\">32</span>, <span style=\"color: #00af00; text-decoration-color: #00af00\">32</span>)          │  <span style=\"color: #00af00; text-decoration-color: #00af00\">65,568</span> │ global_average_pool… │\n",
       "├─────────────────────┼───────────────────┼─────────┼──────────────────────┤\n",
       "│ dense_1 (<span style=\"color: #0087ff; text-decoration-color: #0087ff\">Dense</span>)     │ (<span style=\"color: #00af00; text-decoration-color: #00af00\">32</span>, <span style=\"color: #00af00; text-decoration-color: #00af00\">32</span>)          │  <span style=\"color: #00af00; text-decoration-color: #00af00\">65,568</span> │ global_average_pool… │\n",
       "├─────────────────────┼───────────────────┼─────────┼──────────────────────┤\n",
       "│ dense_2 (<span style=\"color: #0087ff; text-decoration-color: #0087ff\">Dense</span>)     │ (<span style=\"color: #00af00; text-decoration-color: #00af00\">32</span>, <span style=\"color: #00af00; text-decoration-color: #00af00\">32</span>)          │  <span style=\"color: #00af00; text-decoration-color: #00af00\">65,568</span> │ global_average_pool… │\n",
       "├─────────────────────┼───────────────────┼─────────┼──────────────────────┤\n",
       "│ dense_3 (<span style=\"color: #0087ff; text-decoration-color: #0087ff\">Dense</span>)     │ (<span style=\"color: #00af00; text-decoration-color: #00af00\">32</span>, <span style=\"color: #00af00; text-decoration-color: #00af00\">32</span>)          │  <span style=\"color: #00af00; text-decoration-color: #00af00\">65,568</span> │ global_average_pool… │\n",
       "├─────────────────────┼───────────────────┼─────────┼──────────────────────┤\n",
       "│ dense_4 (<span style=\"color: #0087ff; text-decoration-color: #0087ff\">Dense</span>)     │ (<span style=\"color: #00af00; text-decoration-color: #00af00\">32</span>, <span style=\"color: #00af00; text-decoration-color: #00af00\">32</span>)          │  <span style=\"color: #00af00; text-decoration-color: #00af00\">65,568</span> │ global_average_pool… │\n",
       "├─────────────────────┼───────────────────┼─────────┼──────────────────────┤\n",
       "│ bowel (<span style=\"color: #0087ff; text-decoration-color: #0087ff\">Dense</span>)       │ (<span style=\"color: #00af00; text-decoration-color: #00af00\">32</span>, <span style=\"color: #00af00; text-decoration-color: #00af00\">1</span>)           │      <span style=\"color: #00af00; text-decoration-color: #00af00\">33</span> │ dense[<span style=\"color: #00af00; text-decoration-color: #00af00\">0</span>][<span style=\"color: #00af00; text-decoration-color: #00af00\">0</span>]          │\n",
       "├─────────────────────┼───────────────────┼─────────┼──────────────────────┤\n",
       "│ extra (<span style=\"color: #0087ff; text-decoration-color: #0087ff\">Dense</span>)       │ (<span style=\"color: #00af00; text-decoration-color: #00af00\">32</span>, <span style=\"color: #00af00; text-decoration-color: #00af00\">1</span>)           │      <span style=\"color: #00af00; text-decoration-color: #00af00\">33</span> │ dense_1[<span style=\"color: #00af00; text-decoration-color: #00af00\">0</span>][<span style=\"color: #00af00; text-decoration-color: #00af00\">0</span>]        │\n",
       "├─────────────────────┼───────────────────┼─────────┼──────────────────────┤\n",
       "│ liver (<span style=\"color: #0087ff; text-decoration-color: #0087ff\">Dense</span>)       │ (<span style=\"color: #00af00; text-decoration-color: #00af00\">32</span>, <span style=\"color: #00af00; text-decoration-color: #00af00\">3</span>)           │      <span style=\"color: #00af00; text-decoration-color: #00af00\">99</span> │ dense_2[<span style=\"color: #00af00; text-decoration-color: #00af00\">0</span>][<span style=\"color: #00af00; text-decoration-color: #00af00\">0</span>]        │\n",
       "├─────────────────────┼───────────────────┼─────────┼──────────────────────┤\n",
       "│ kidney (<span style=\"color: #0087ff; text-decoration-color: #0087ff\">Dense</span>)      │ (<span style=\"color: #00af00; text-decoration-color: #00af00\">32</span>, <span style=\"color: #00af00; text-decoration-color: #00af00\">3</span>)           │      <span style=\"color: #00af00; text-decoration-color: #00af00\">99</span> │ dense_3[<span style=\"color: #00af00; text-decoration-color: #00af00\">0</span>][<span style=\"color: #00af00; text-decoration-color: #00af00\">0</span>]        │\n",
       "├─────────────────────┼───────────────────┼─────────┼──────────────────────┤\n",
       "│ spleen (<span style=\"color: #0087ff; text-decoration-color: #0087ff\">Dense</span>)      │ (<span style=\"color: #00af00; text-decoration-color: #00af00\">32</span>, <span style=\"color: #00af00; text-decoration-color: #00af00\">3</span>)           │      <span style=\"color: #00af00; text-decoration-color: #00af00\">99</span> │ dense_4[<span style=\"color: #00af00; text-decoration-color: #00af00\">0</span>][<span style=\"color: #00af00; text-decoration-color: #00af00\">0</span>]        │\n",
       "└─────────────────────┴───────────────────┴─────────┴──────────────────────┘\n",
       "</pre>\n"
      ],
      "text/plain": [
       "┏━━━━━━━━━━━━━━━━━━━━━┳━━━━━━━━━━━━━━━━━━━┳━━━━━━━━━┳━━━━━━━━━━━━━━━━━━━━━━┓\n",
       "┃\u001b[1m \u001b[0m\u001b[1mLayer (type)       \u001b[0m\u001b[1m \u001b[0m┃\u001b[1m \u001b[0m\u001b[1mOutput Shape     \u001b[0m\u001b[1m \u001b[0m┃\u001b[1m \u001b[0m\u001b[1mParam #\u001b[0m\u001b[1m \u001b[0m┃\u001b[1m \u001b[0m\u001b[1mConnected to        \u001b[0m\u001b[1m \u001b[0m┃\n",
       "┡━━━━━━━━━━━━━━━━━━━━━╇━━━━━━━━━━━━━━━━━━━╇━━━━━━━━━╇━━━━━━━━━━━━━━━━━━━━━━┩\n",
       "│ input_layer         │ (\u001b[38;5;34m32\u001b[0m, \u001b[38;5;34m256\u001b[0m, \u001b[38;5;34m256\u001b[0m, \u001b[38;5;34m3\u001b[0m) │       \u001b[38;5;34m0\u001b[0m │ -                    │\n",
       "│ (\u001b[38;5;33mInputLayer\u001b[0m)        │                   │         │                      │\n",
       "├─────────────────────┼───────────────────┼─────────┼──────────────────────┤\n",
       "│ res_net_backbone    │ (\u001b[38;5;34m32\u001b[0m, \u001b[38;5;34m8\u001b[0m, \u001b[38;5;34m8\u001b[0m, \u001b[38;5;34m2048\u001b[0m)  │ \u001b[38;5;34m23,561…\u001b[0m │ input_layer[\u001b[38;5;34m0\u001b[0m][\u001b[38;5;34m0\u001b[0m]    │\n",
       "│ (\u001b[38;5;33mResNetBackbone\u001b[0m)    │                   │         │                      │\n",
       "├─────────────────────┼───────────────────┼─────────┼──────────────────────┤\n",
       "│ global_average_poo… │ (\u001b[38;5;34m32\u001b[0m, \u001b[38;5;34m2048\u001b[0m)        │       \u001b[38;5;34m0\u001b[0m │ res_net_backbone[\u001b[38;5;34m0\u001b[0m]… │\n",
       "│ (\u001b[38;5;33mGlobalAveragePool…\u001b[0m │                   │         │                      │\n",
       "├─────────────────────┼───────────────────┼─────────┼──────────────────────┤\n",
       "│ dense (\u001b[38;5;33mDense\u001b[0m)       │ (\u001b[38;5;34m32\u001b[0m, \u001b[38;5;34m32\u001b[0m)          │  \u001b[38;5;34m65,568\u001b[0m │ global_average_pool… │\n",
       "├─────────────────────┼───────────────────┼─────────┼──────────────────────┤\n",
       "│ dense_1 (\u001b[38;5;33mDense\u001b[0m)     │ (\u001b[38;5;34m32\u001b[0m, \u001b[38;5;34m32\u001b[0m)          │  \u001b[38;5;34m65,568\u001b[0m │ global_average_pool… │\n",
       "├─────────────────────┼───────────────────┼─────────┼──────────────────────┤\n",
       "│ dense_2 (\u001b[38;5;33mDense\u001b[0m)     │ (\u001b[38;5;34m32\u001b[0m, \u001b[38;5;34m32\u001b[0m)          │  \u001b[38;5;34m65,568\u001b[0m │ global_average_pool… │\n",
       "├─────────────────────┼───────────────────┼─────────┼──────────────────────┤\n",
       "│ dense_3 (\u001b[38;5;33mDense\u001b[0m)     │ (\u001b[38;5;34m32\u001b[0m, \u001b[38;5;34m32\u001b[0m)          │  \u001b[38;5;34m65,568\u001b[0m │ global_average_pool… │\n",
       "├─────────────────────┼───────────────────┼─────────┼──────────────────────┤\n",
       "│ dense_4 (\u001b[38;5;33mDense\u001b[0m)     │ (\u001b[38;5;34m32\u001b[0m, \u001b[38;5;34m32\u001b[0m)          │  \u001b[38;5;34m65,568\u001b[0m │ global_average_pool… │\n",
       "├─────────────────────┼───────────────────┼─────────┼──────────────────────┤\n",
       "│ bowel (\u001b[38;5;33mDense\u001b[0m)       │ (\u001b[38;5;34m32\u001b[0m, \u001b[38;5;34m1\u001b[0m)           │      \u001b[38;5;34m33\u001b[0m │ dense[\u001b[38;5;34m0\u001b[0m][\u001b[38;5;34m0\u001b[0m]          │\n",
       "├─────────────────────┼───────────────────┼─────────┼──────────────────────┤\n",
       "│ extra (\u001b[38;5;33mDense\u001b[0m)       │ (\u001b[38;5;34m32\u001b[0m, \u001b[38;5;34m1\u001b[0m)           │      \u001b[38;5;34m33\u001b[0m │ dense_1[\u001b[38;5;34m0\u001b[0m][\u001b[38;5;34m0\u001b[0m]        │\n",
       "├─────────────────────┼───────────────────┼─────────┼──────────────────────┤\n",
       "│ liver (\u001b[38;5;33mDense\u001b[0m)       │ (\u001b[38;5;34m32\u001b[0m, \u001b[38;5;34m3\u001b[0m)           │      \u001b[38;5;34m99\u001b[0m │ dense_2[\u001b[38;5;34m0\u001b[0m][\u001b[38;5;34m0\u001b[0m]        │\n",
       "├─────────────────────┼───────────────────┼─────────┼──────────────────────┤\n",
       "│ kidney (\u001b[38;5;33mDense\u001b[0m)      │ (\u001b[38;5;34m32\u001b[0m, \u001b[38;5;34m3\u001b[0m)           │      \u001b[38;5;34m99\u001b[0m │ dense_3[\u001b[38;5;34m0\u001b[0m][\u001b[38;5;34m0\u001b[0m]        │\n",
       "├─────────────────────┼───────────────────┼─────────┼──────────────────────┤\n",
       "│ spleen (\u001b[38;5;33mDense\u001b[0m)      │ (\u001b[38;5;34m32\u001b[0m, \u001b[38;5;34m3\u001b[0m)           │      \u001b[38;5;34m99\u001b[0m │ dense_4[\u001b[38;5;34m0\u001b[0m][\u001b[38;5;34m0\u001b[0m]        │\n",
       "└─────────────────────┴───────────────────┴─────────┴──────────────────────┘\n"
      ]
     },
     "metadata": {},
     "output_type": "display_data"
    },
    {
     "data": {
      "text/html": [
       "<pre style=\"white-space:pre;overflow-x:auto;line-height:normal;font-family:Menlo,'DejaVu Sans Mono',consolas,'Courier New',monospace\"><span style=\"font-weight: bold\"> Total params: </span><span style=\"color: #00af00; text-decoration-color: #00af00\">23,889,355</span> (729.05 MB)\n",
       "</pre>\n"
      ],
      "text/plain": [
       "\u001b[1m Total params: \u001b[0m\u001b[38;5;34m23,889,355\u001b[0m (729.05 MB)\n"
      ]
     },
     "metadata": {},
     "output_type": "display_data"
    },
    {
     "data": {
      "text/html": [
       "<pre style=\"white-space:pre;overflow-x:auto;line-height:normal;font-family:Menlo,'DejaVu Sans Mono',consolas,'Courier New',monospace\"><span style=\"font-weight: bold\"> Trainable params: </span><span style=\"color: #00af00; text-decoration-color: #00af00\">23,836,235</span> (727.42 MB)\n",
       "</pre>\n"
      ],
      "text/plain": [
       "\u001b[1m Trainable params: \u001b[0m\u001b[38;5;34m23,836,235\u001b[0m (727.42 MB)\n"
      ]
     },
     "metadata": {},
     "output_type": "display_data"
    },
    {
     "data": {
      "text/html": [
       "<pre style=\"white-space:pre;overflow-x:auto;line-height:normal;font-family:Menlo,'DejaVu Sans Mono',consolas,'Courier New',monospace\"><span style=\"font-weight: bold\"> Non-trainable params: </span><span style=\"color: #00af00; text-decoration-color: #00af00\">53,120</span> (1.62 MB)\n",
       "</pre>\n"
      ],
      "text/plain": [
       "\u001b[1m Non-trainable params: \u001b[0m\u001b[38;5;34m53,120\u001b[0m (1.62 MB)\n"
      ]
     },
     "metadata": {},
     "output_type": "display_data"
    }
   ],
   "source": [
    "! cp {INPUT_MODEL_PATH} ./\n",
    "\n",
    "model = keras.models.load_model(MODEL_PATH)\n",
    "model.summary()"
   ]
  },
  {
   "cell_type": "markdown",
   "id": "7311eb57",
   "metadata": {
    "papermill": {
     "duration": 0.005024,
     "end_time": "2023-10-05T08:13:31.672655",
     "exception": false,
     "start_time": "2023-10-05T08:13:31.667631",
     "status": "completed"
    },
    "tags": []
   },
   "source": [
    "# Data Pipeline\n",
    "\n",
    "We have a model that accepts image in the PNG format. We will now convert the DICOM images to PNG for the model to infer."
   ]
  },
  {
   "cell_type": "code",
   "execution_count": 6,
   "id": "36129bcd",
   "metadata": {
    "execution": {
     "iopub.execute_input": "2023-10-05T08:13:31.684226Z",
     "iopub.status.busy": "2023-10-05T08:13:31.683329Z",
     "iopub.status.idle": "2023-10-05T08:13:31.718000Z",
     "shell.execute_reply": "2023-10-05T08:13:31.717132Z"
    },
    "papermill": {
     "duration": 0.04211,
     "end_time": "2023-10-05T08:13:31.719615",
     "exception": false,
     "start_time": "2023-10-05T08:13:31.677505",
     "status": "completed"
    },
    "tags": []
   },
   "outputs": [
    {
     "name": "stdout",
     "output_type": "stream",
     "text": [
      "num_rows=6\n",
      "unique_patients=3\n"
     ]
    }
   ],
   "source": [
    "meta_df = pd.read_csv(f\"{BASE_PATH}/test_series_meta.csv\")\n",
    "\n",
    "# Checking if patients are repeated by finding the number of unique patient IDs\n",
    "num_rows = meta_df.shape[0]\n",
    "unique_patients = meta_df[\"patient_id\"].nunique()\n",
    "\n",
    "print(f\"{num_rows=}\")\n",
    "print(f\"{unique_patients=}\")"
   ]
  },
  {
   "cell_type": "code",
   "execution_count": 7,
   "id": "b519e6ea",
   "metadata": {
    "execution": {
     "iopub.execute_input": "2023-10-05T08:13:31.730758Z",
     "iopub.status.busy": "2023-10-05T08:13:31.730524Z",
     "iopub.status.idle": "2023-10-05T08:13:31.786763Z",
     "shell.execute_reply": "2023-10-05T08:13:31.785956Z"
    },
    "papermill": {
     "duration": 0.06405,
     "end_time": "2023-10-05T08:13:31.788687",
     "exception": false,
     "start_time": "2023-10-05T08:13:31.724637",
     "status": "completed"
    },
    "tags": []
   },
   "outputs": [
    {
     "data": {
      "application/vnd.jupyter.widget-view+json": {
       "model_id": "a9996d82b353408190534c0ad4a68833",
       "version_major": 2,
       "version_minor": 0
      },
      "text/plain": [
       "  0%|          | 0/6 [00:00<?, ?it/s]"
      ]
     },
     "metadata": {},
     "output_type": "display_data"
    }
   ],
   "source": [
    "meta_df[\"dicom_folder\"] = BASE_PATH + \"/\" + \"test_images\"\\\n",
    "                                    + \"/\" + meta_df.patient_id.astype(str)\\\n",
    "                                    + \"/\" + meta_df.series_id.astype(str)\n",
    "\n",
    "test_folders = meta_df.dicom_folder.tolist()\n",
    "test_paths = []\n",
    "for folder in tqdm(test_folders):\n",
    "    test_paths += sorted(glob(os.path.join(folder, \"*dcm\")))[::STRIDE]"
   ]
  },
  {
   "cell_type": "code",
   "execution_count": 8,
   "id": "597bafdb",
   "metadata": {
    "execution": {
     "iopub.execute_input": "2023-10-05T08:13:31.800173Z",
     "iopub.status.busy": "2023-10-05T08:13:31.799713Z",
     "iopub.status.idle": "2023-10-05T08:13:31.817532Z",
     "shell.execute_reply": "2023-10-05T08:13:31.816639Z"
    },
    "papermill": {
     "duration": 0.024967,
     "end_time": "2023-10-05T08:13:31.819039",
     "exception": false,
     "start_time": "2023-10-05T08:13:31.794072",
     "status": "completed"
    },
    "tags": []
   },
   "outputs": [
    {
     "data": {
      "text/html": [
       "<div>\n",
       "<style scoped>\n",
       "    .dataframe tbody tr th:only-of-type {\n",
       "        vertical-align: middle;\n",
       "    }\n",
       "\n",
       "    .dataframe tbody tr th {\n",
       "        vertical-align: top;\n",
       "    }\n",
       "\n",
       "    .dataframe thead th {\n",
       "        text-align: right;\n",
       "    }\n",
       "</style>\n",
       "<table border=\"1\" class=\"dataframe\">\n",
       "  <thead>\n",
       "    <tr style=\"text-align: right;\">\n",
       "      <th></th>\n",
       "      <th>dicom_path</th>\n",
       "      <th>patient_id</th>\n",
       "      <th>series_id</th>\n",
       "      <th>instance_number</th>\n",
       "      <th>image_path</th>\n",
       "    </tr>\n",
       "  </thead>\n",
       "  <tbody>\n",
       "    <tr>\n",
       "      <th>0</th>\n",
       "      <td>/kaggle/input/rsna-2023-abdominal-trauma-detec...</td>\n",
       "      <td>48843</td>\n",
       "      <td>62825</td>\n",
       "      <td>30</td>\n",
       "      <td>/tmp/dataset/rsna-atd/test_images/48843/62825/...</td>\n",
       "    </tr>\n",
       "    <tr>\n",
       "      <th>1</th>\n",
       "      <td>/kaggle/input/rsna-2023-abdominal-trauma-detec...</td>\n",
       "      <td>50046</td>\n",
       "      <td>24574</td>\n",
       "      <td>30</td>\n",
       "      <td>/tmp/dataset/rsna-atd/test_images/50046/24574/...</td>\n",
       "    </tr>\n",
       "  </tbody>\n",
       "</table>\n",
       "</div>"
      ],
      "text/plain": [
       "                                          dicom_path  patient_id  series_id  \\\n",
       "0  /kaggle/input/rsna-2023-abdominal-trauma-detec...       48843      62825   \n",
       "1  /kaggle/input/rsna-2023-abdominal-trauma-detec...       50046      24574   \n",
       "\n",
       "   instance_number                                         image_path  \n",
       "0               30  /tmp/dataset/rsna-atd/test_images/48843/62825/...  \n",
       "1               30  /tmp/dataset/rsna-atd/test_images/50046/24574/...  "
      ]
     },
     "execution_count": 8,
     "metadata": {},
     "output_type": "execute_result"
    }
   ],
   "source": [
    "test_df = pd.DataFrame(test_paths, columns=[\"dicom_path\"])\n",
    "test_df[\"patient_id\"] = test_df.dicom_path.map(lambda x: x.split(\"/\")[-3]).astype(int)\n",
    "test_df[\"series_id\"] = test_df.dicom_path.map(lambda x: x.split(\"/\")[-2]).astype(int)\n",
    "test_df[\"instance_number\"] = test_df.dicom_path.map(lambda x: x.split(\"/\")[-1].replace(\".dcm\",\"\")).astype(int)\n",
    "\n",
    "test_df[\"image_path\"] = f\"{IMAGE_DIR}/test_images\"\\\n",
    "                    + \"/\" + test_df.patient_id.astype(str)\\\n",
    "                    + \"/\" + test_df.series_id.astype(str)\\\n",
    "                    + \"/\" + test_df.instance_number.astype(str) +\".png\"\n",
    "\n",
    "test_df.head(2)"
   ]
  },
  {
   "cell_type": "code",
   "execution_count": 9,
   "id": "1828f7d1",
   "metadata": {
    "execution": {
     "iopub.execute_input": "2023-10-05T08:13:31.830580Z",
     "iopub.status.busy": "2023-10-05T08:13:31.830343Z",
     "iopub.status.idle": "2023-10-05T08:13:31.834899Z",
     "shell.execute_reply": "2023-10-05T08:13:31.834092Z"
    },
    "papermill": {
     "duration": 0.012284,
     "end_time": "2023-10-05T08:13:31.836609",
     "exception": false,
     "start_time": "2023-10-05T08:13:31.824325",
     "status": "completed"
    },
    "tags": []
   },
   "outputs": [
    {
     "name": "stdout",
     "output_type": "stream",
     "text": [
      "num_rows=3\n",
      "unique_patients=3\n"
     ]
    }
   ],
   "source": [
    "# Checking if patients are repeated by finding the number of unique patient IDs\n",
    "num_rows = test_df.shape[0]\n",
    "unique_patients = test_df[\"patient_id\"].nunique()\n",
    "\n",
    "print(f\"{num_rows=}\")\n",
    "print(f\"{unique_patients=}\")"
   ]
  },
  {
   "cell_type": "markdown",
   "id": "8ff207cf",
   "metadata": {
    "papermill": {
     "duration": 0.005039,
     "end_time": "2023-10-05T08:13:31.847130",
     "exception": false,
     "start_time": "2023-10-05T08:13:31.842091",
     "status": "completed"
    },
    "tags": []
   },
   "source": [
    "## DICOM to PNG pipeline"
   ]
  },
  {
   "cell_type": "code",
   "execution_count": 10,
   "id": "3fc3fbcd",
   "metadata": {
    "_kg_hide-input": true,
    "execution": {
     "iopub.execute_input": "2023-10-05T08:13:31.858552Z",
     "iopub.status.busy": "2023-10-05T08:13:31.858290Z",
     "iopub.status.idle": "2023-10-05T08:13:32.899360Z",
     "shell.execute_reply": "2023-10-05T08:13:32.898368Z"
    },
    "papermill": {
     "duration": 1.04863,
     "end_time": "2023-10-05T08:13:32.901251",
     "exception": false,
     "start_time": "2023-10-05T08:13:31.852621",
     "status": "completed"
    },
    "tags": []
   },
   "outputs": [
    {
     "name": "stdout",
     "output_type": "stream",
     "text": [
      "rm: cannot remove '/tmp/dataset/rsna-atd': No such file or directory\r\n"
     ]
    }
   ],
   "source": [
    "!rm -r {IMAGE_DIR}\n",
    "os.makedirs(f\"{IMAGE_DIR}/train_images\", exist_ok=True)\n",
    "os.makedirs(f\"{IMAGE_DIR}/test_images\", exist_ok=True)"
   ]
  },
  {
   "cell_type": "code",
   "execution_count": 11,
   "id": "e23404f7",
   "metadata": {
    "_kg_hide-input": true,
    "execution": {
     "iopub.execute_input": "2023-10-05T08:13:32.914172Z",
     "iopub.status.busy": "2023-10-05T08:13:32.913436Z",
     "iopub.status.idle": "2023-10-05T08:13:32.922657Z",
     "shell.execute_reply": "2023-10-05T08:13:32.921721Z"
    },
    "papermill": {
     "duration": 0.017569,
     "end_time": "2023-10-05T08:13:32.924317",
     "exception": false,
     "start_time": "2023-10-05T08:13:32.906748",
     "status": "completed"
    },
    "tags": []
   },
   "outputs": [],
   "source": [
    "def standardize_pixel_array(dcm):\n",
    "    # Correct DICOM pixel_array if PixelRepresentation == 1.\n",
    "    pixel_array = dcm.pixel_array\n",
    "    if dcm.PixelRepresentation == 1:\n",
    "        bit_shift = dcm.BitsAllocated - dcm.BitsStored\n",
    "        dtype = pixel_array.dtype \n",
    "        new_array = (pixel_array << bit_shift).astype(dtype) >>  bit_shift\n",
    "        pixel_array = pydicom.pixel_data_handlers.util.apply_modality_lut(new_array, dcm)\n",
    "    return pixel_array\n",
    "\n",
    "def read_xray(path, fix_monochrome=True):\n",
    "    dicom = pydicom.dcmread(path)\n",
    "    data = standardize_pixel_array(dicom)\n",
    "    data = data - np.min(data)\n",
    "    data = data / (np.max(data) + 1e-5)\n",
    "    if fix_monochrome and dicom.PhotometricInterpretation == \"MONOCHROME1\":\n",
    "        data = 1.0 - data\n",
    "    return data\n",
    "\n",
    "def resize_and_save(file_path):\n",
    "    img = read_xray(file_path)\n",
    "    h, w = img.shape[:2]  # orig hw\n",
    "    img = cv2.resize(img, (config.RESIZE_DIM, config.RESIZE_DIM), cv2.INTER_LINEAR)\n",
    "    img = (img * 255).astype(np.uint8)\n",
    "    \n",
    "    sub_path = file_path.split(\"/\",4)[-1].split(\".dcm\")[0] + \".png\"\n",
    "    infos = sub_path.split(\"/\")\n",
    "    sub_path = file_path.split(\"/\",4)[-1].split(\".dcm\")[0] + \".png\"\n",
    "    infos = sub_path.split(\"/\")\n",
    "    pid = infos[-3]\n",
    "    sid = infos[-2]\n",
    "    iid = infos[-1]; iid = iid.replace(\".png\",\"\")\n",
    "    new_path = os.path.join(IMAGE_DIR, sub_path)\n",
    "    os.makedirs(new_path.rsplit(\"/\",1)[0], exist_ok=True)\n",
    "    cv2.imwrite(new_path, img)\n",
    "    return"
   ]
  },
  {
   "cell_type": "code",
   "execution_count": 12,
   "id": "5b9ff81d",
   "metadata": {
    "execution": {
     "iopub.execute_input": "2023-10-05T08:13:32.937039Z",
     "iopub.status.busy": "2023-10-05T08:13:32.936791Z",
     "iopub.status.idle": "2023-10-05T08:13:33.373721Z",
     "shell.execute_reply": "2023-10-05T08:13:33.372846Z"
    },
    "papermill": {
     "duration": 0.444875,
     "end_time": "2023-10-05T08:13:33.375425",
     "exception": false,
     "start_time": "2023-10-05T08:13:32.930550",
     "status": "completed"
    },
    "tags": []
   },
   "outputs": [
    {
     "data": {
      "application/vnd.jupyter.widget-view+json": {
       "model_id": "7d9d92af8e944ce39520f873a1f4efb8",
       "version_major": 2,
       "version_minor": 0
      },
      "text/plain": [
       "  0%|          | 0/3 [00:00<?, ?it/s]"
      ]
     },
     "metadata": {},
     "output_type": "display_data"
    },
    {
     "name": "stdout",
     "output_type": "stream",
     "text": [
      "CPU times: user 284 ms, sys: 51.3 ms, total: 336 ms\n",
      "Wall time: 430 ms\n"
     ]
    },
    {
     "data": {
      "text/plain": [
       "117"
      ]
     },
     "execution_count": 12,
     "metadata": {},
     "output_type": "execute_result"
    }
   ],
   "source": [
    "%%time\n",
    "\n",
    "file_paths = test_df.dicom_path.tolist()\n",
    "_ = Parallel(n_jobs=2, backend=\"threading\")(\n",
    "    delayed(resize_and_save)(file_path) for file_path in tqdm(file_paths, leave=True, position=0)\n",
    ")\n",
    "\n",
    "del _; gc.collect()"
   ]
  },
  {
   "cell_type": "markdown",
   "id": "6cb3c6dc",
   "metadata": {
    "papermill": {
     "duration": 0.005399,
     "end_time": "2023-10-05T08:13:33.386649",
     "exception": false,
     "start_time": "2023-10-05T08:13:33.381250",
     "status": "completed"
    },
    "tags": []
   },
   "source": [
    "## Building the tf.data pipeline"
   ]
  },
  {
   "cell_type": "code",
   "execution_count": 13,
   "id": "dbfc0580",
   "metadata": {
    "_kg_hide-input": true,
    "execution": {
     "iopub.execute_input": "2023-10-05T08:13:33.398960Z",
     "iopub.status.busy": "2023-10-05T08:13:33.398689Z",
     "iopub.status.idle": "2023-10-05T08:13:33.404397Z",
     "shell.execute_reply": "2023-10-05T08:13:33.403516Z"
    },
    "papermill": {
     "duration": 0.013793,
     "end_time": "2023-10-05T08:13:33.406096",
     "exception": false,
     "start_time": "2023-10-05T08:13:33.392303",
     "status": "completed"
    },
    "tags": []
   },
   "outputs": [],
   "source": [
    "def decode_image(image_path):\n",
    "    file_bytes = tf.io.read_file(image_path)\n",
    "    image = tf.io.decode_png(file_bytes, channels=3, dtype=tf.uint8)\n",
    "    image = tf.image.resize(image, config.IMAGE_SIZE, method=\"bilinear\")\n",
    "    image = tf.cast(image, tf.float32) / 255.0\n",
    "    return image\n",
    "\n",
    "def build_dataset(image_paths):\n",
    "    ds = (\n",
    "        tf.data.Dataset.from_tensor_slices(image_paths)\n",
    "        .map(decode_image, num_parallel_calls=config.AUTOTUNE)\n",
    "        .shuffle(config.BATCH_SIZE * 10)\n",
    "        .batch(config.BATCH_SIZE)\n",
    "        .prefetch(config.AUTOTUNE)\n",
    "    )\n",
    "    return ds"
   ]
  },
  {
   "cell_type": "code",
   "execution_count": 14,
   "id": "67f16ba0",
   "metadata": {
    "_kg_hide-input": true,
    "execution": {
     "iopub.execute_input": "2023-10-05T08:13:33.418368Z",
     "iopub.status.busy": "2023-10-05T08:13:33.417896Z",
     "iopub.status.idle": "2023-10-05T08:13:33.624372Z",
     "shell.execute_reply": "2023-10-05T08:13:33.623508Z"
    },
    "papermill": {
     "duration": 0.214296,
     "end_time": "2023-10-05T08:13:33.626079",
     "exception": false,
     "start_time": "2023-10-05T08:13:33.411783",
     "status": "completed"
    },
    "tags": []
   },
   "outputs": [
    {
     "data": {
      "text/plain": [
       "TensorShape([3, 256, 256, 3])"
      ]
     },
     "execution_count": 14,
     "metadata": {},
     "output_type": "execute_result"
    }
   ],
   "source": [
    "paths  = test_df.image_path.tolist()\n",
    "\n",
    "ds = build_dataset(paths)\n",
    "images = next(iter(ds))\n",
    "\n",
    "images.shape"
   ]
  },
  {
   "cell_type": "code",
   "execution_count": 15,
   "id": "b136ae8a",
   "metadata": {
    "_kg_hide-input": true,
    "execution": {
     "iopub.execute_input": "2023-10-05T08:13:33.638682Z",
     "iopub.status.busy": "2023-10-05T08:13:33.638395Z",
     "iopub.status.idle": "2023-10-05T08:13:33.911388Z",
     "shell.execute_reply": "2023-10-05T08:13:33.910337Z"
    },
    "papermill": {
     "duration": 0.283123,
     "end_time": "2023-10-05T08:13:33.915022",
     "exception": false,
     "start_time": "2023-10-05T08:13:33.631899",
     "status": "completed"
    },
    "tags": []
   },
   "outputs": [
    {
     "data": {
      "image/png": "[encoded data removed]",
      "text/plain": [
       "<Figure size 600x200 with 3 Axes>"
      ]
     },
     "metadata": {},
     "output_type": "display_data"
    }
   ],
   "source": [
    "keras_cv.visualization.plot_image_gallery(\n",
    "    images=images,\n",
    "    value_range=(0, 1),\n",
    "    rows=1,\n",
    "    cols=3,\n",
    ")"
   ]
  },
  {
   "cell_type": "markdown",
   "id": "e7cd2244",
   "metadata": {
    "papermill": {
     "duration": 0.009753,
     "end_time": "2023-10-05T08:13:33.942861",
     "exception": false,
     "start_time": "2023-10-05T08:13:33.933108",
     "status": "completed"
    },
    "tags": []
   },
   "source": [
    "# Inference"
   ]
  },
  {
   "cell_type": "code",
   "execution_count": 16,
   "id": "f263daf5",
   "metadata": {
    "execution": {
     "iopub.execute_input": "2023-10-05T08:13:33.956866Z",
     "iopub.status.busy": "2023-10-05T08:13:33.956621Z",
     "iopub.status.idle": "2023-10-05T08:13:33.962095Z",
     "shell.execute_reply": "2023-10-05T08:13:33.961254Z"
    },
    "papermill": {
     "duration": 0.014519,
     "end_time": "2023-10-05T08:13:33.963799",
     "exception": false,
     "start_time": "2023-10-05T08:13:33.949280",
     "status": "completed"
    },
    "tags": []
   },
   "outputs": [],
   "source": [
    "def post_proc(pred):\n",
    "    proc_pred = np.empty((pred.shape[0], 2*2 + 3*3), dtype=\"float32\")\n",
    "\n",
    "    # bowel, extravasation\n",
    "    proc_pred[:, 0] = pred[:, 0]\n",
    "    proc_pred[:, 1] = 1 - proc_pred[:, 0]\n",
    "    proc_pred[:, 2] = pred[:, 1]\n",
    "    proc_pred[:, 3] = 1 - proc_pred[:, 2]\n",
    "    \n",
    "    # liver, kidney, sneel\n",
    "    proc_pred[:, 4:7] = pred[:, 2:5]\n",
    "    proc_pred[:, 7:10] = pred[:, 5:8]\n",
    "    proc_pred[:, 10:13] = pred[:, 8:11]\n",
    "\n",
    "    return proc_pred"
   ]
  },
  {
   "cell_type": "code",
   "execution_count": 17,
   "id": "418ca993",
   "metadata": {
    "execution": {
     "iopub.execute_input": "2023-10-05T08:13:33.978098Z",
     "iopub.status.busy": "2023-10-05T08:13:33.977626Z",
     "iopub.status.idle": "2023-10-05T08:13:50.123765Z",
     "shell.execute_reply": "2023-10-05T08:13:50.122806Z"
    },
    "papermill": {
     "duration": 16.155405,
     "end_time": "2023-10-05T08:13:50.125930",
     "exception": false,
     "start_time": "2023-10-05T08:13:33.970525",
     "status": "completed"
    },
    "tags": []
   },
   "outputs": [
    {
     "data": {
      "application/vnd.jupyter.widget-view+json": {
       "model_id": "c6c234d048ea471baa10883ca1397f72",
       "version_major": 2,
       "version_minor": 0
      },
      "text/plain": [
       "Patients :   0%|          | 0/3 [00:00<?, ?it/s]"
      ]
     },
     "metadata": {},
     "output_type": "display_data"
    },
    {
     "name": "stdout",
     "output_type": "stream",
     "text": [
      "Patient ID: 48843\n",
      "\u001b[1m1/1\u001b[0m \u001b[32m━━━━━━━━━━━━━━━━━━━━\u001b[0m\u001b[37m\u001b[0m \u001b[1m15s\u001b[0m 15s/step\n",
      "Patient ID: 50046\n",
      "\u001b[1m1/1\u001b[0m \u001b[32m━━━━━━━━━━━━━━━━━━━━\u001b[0m\u001b[37m\u001b[0m \u001b[1m0s\u001b[0m 22ms/step\n",
      "Patient ID: 63706\n",
      "\u001b[1m1/1\u001b[0m \u001b[32m━━━━━━━━━━━━━━━━━━━━\u001b[0m\u001b[37m\u001b[0m \u001b[1m0s\u001b[0m 20ms/step\n"
     ]
    }
   ],
   "source": [
    "# Getting unique patient IDs from test dataset\n",
    "patient_ids = test_df[\"patient_id\"].unique()\n",
    "\n",
    "# Initializing array to store predictions\n",
    "patient_preds = np.zeros(\n",
    "    shape=(len(patient_ids), 2*2 + 3*3),\n",
    "    dtype=\"float32\"\n",
    ")\n",
    "\n",
    "# Iterating over each patient\n",
    "for pidx, patient_id in tqdm(enumerate(patient_ids), total=len(patient_ids), desc=\"Patients \"):\n",
    "    print(f\"Patient ID: {patient_id}\")\n",
    "    \n",
    "    # Query the dataframe for a particular patient\n",
    "#     patient_df = test_df.query(\"patient_id == @patient_id\")\n",
    "    patient_df = test_df.loc[test_df[\"patient_id\"] == patient_id]\n",
    "    \n",
    "    # Getting image paths for a patient\n",
    "    patient_paths = patient_df.image_path.tolist()\n",
    "\n",
    "    # Building dataset for prediction\n",
    "    dtest = build_dataset(patient_paths)\n",
    "    \n",
    "    # Predicting with the model\n",
    "    pred = model.predict(dtest)\n",
    "    pred = np.concatenate(pred, axis=-1).astype(\"float32\")\n",
    "    pred = pred[:len(patient_paths), :]\n",
    "    pred = np.mean(pred.reshape(1, len(patient_paths), 11), axis=0)\n",
    "    pred = np.max(pred, axis=0, keepdims=True)\n",
    "    \n",
    "    patient_preds[pidx, :] += post_proc(pred)[0]\n",
    "    \n",
    "\n",
    "    # Deleting variables to free up memory \n",
    "    del patient_df, patient_paths, dtest, pred; gc.collect()"
   ]
  },
  {
   "cell_type": "markdown",
   "id": "17f4159e",
   "metadata": {
    "papermill": {
     "duration": 0.006814,
     "end_time": "2023-10-05T08:13:50.140197",
     "exception": false,
     "start_time": "2023-10-05T08:13:50.133383",
     "status": "completed"
    },
    "tags": []
   },
   "source": [
    "# Submission"
   ]
  },
  {
   "cell_type": "code",
   "execution_count": 18,
   "id": "86e1b7dc",
   "metadata": {
    "execution": {
     "iopub.execute_input": "2023-10-05T08:13:50.156533Z",
     "iopub.status.busy": "2023-10-05T08:13:50.155777Z",
     "iopub.status.idle": "2023-10-05T08:13:51.264200Z",
     "shell.execute_reply": "2023-10-05T08:13:51.262971Z"
    },
    "papermill": {
     "duration": 1.119532,
     "end_time": "2023-10-05T08:13:51.266381",
     "exception": false,
     "start_time": "2023-10-05T08:13:50.146849",
     "status": "completed"
    },
    "tags": []
   },
   "outputs": [],
   "source": [
    "!rm -rf {MODEL_PATH}"
   ]
  },
  {
   "cell_type": "code",
   "execution_count": 19,
   "id": "c971a190",
   "metadata": {
    "execution": {
     "iopub.execute_input": "2023-10-05T08:13:51.282167Z",
     "iopub.status.busy": "2023-10-05T08:13:51.281340Z",
     "iopub.status.idle": "2023-10-05T08:13:51.332403Z",
     "shell.execute_reply": "2023-10-05T08:13:51.331502Z"
    },
    "papermill": {
     "duration": 0.060757,
     "end_time": "2023-10-05T08:13:51.334176",
     "exception": false,
     "start_time": "2023-10-05T08:13:51.273419",
     "status": "completed"
    },
    "tags": []
   },
   "outputs": [
    {
     "data": {
      "text/html": [
       "<div>\n",
       "<style scoped>\n",
       "    .dataframe tbody tr th:only-of-type {\n",
       "        vertical-align: middle;\n",
       "    }\n",
       "\n",
       "    .dataframe tbody tr th {\n",
       "        vertical-align: top;\n",
       "    }\n",
       "\n",
       "    .dataframe thead th {\n",
       "        text-align: right;\n",
       "    }\n",
       "</style>\n",
       "<table border=\"1\" class=\"dataframe\">\n",
       "  <thead>\n",
       "    <tr style=\"text-align: right;\">\n",
       "      <th></th>\n",
       "      <th>patient_id</th>\n",
       "      <th>bowel_healthy</th>\n",
       "      <th>bowel_injury</th>\n",
       "      <th>extravasation_healthy</th>\n",
       "      <th>extravasation_injury</th>\n",
       "      <th>kidney_healthy</th>\n",
       "      <th>kidney_low</th>\n",
       "      <th>kidney_high</th>\n",
       "      <th>liver_healthy</th>\n",
       "      <th>liver_low</th>\n",
       "      <th>liver_high</th>\n",
       "      <th>spleen_healthy</th>\n",
       "      <th>spleen_low</th>\n",
       "      <th>spleen_high</th>\n",
       "    </tr>\n",
       "  </thead>\n",
       "  <tbody>\n",
       "    <tr>\n",
       "      <th>0</th>\n",
       "      <td>48843</td>\n",
       "      <td>1.0</td>\n",
       "      <td>0.0</td>\n",
       "      <td>1.0</td>\n",
       "      <td>0.0</td>\n",
       "      <td>0.999999</td>\n",
       "      <td>3.502256e-07</td>\n",
       "      <td>2.098973e-07</td>\n",
       "      <td>0.999914</td>\n",
       "      <td>8.634159e-05</td>\n",
       "      <td>8.628847e-30</td>\n",
       "      <td>1.0</td>\n",
       "      <td>3.040318e-21</td>\n",
       "      <td>4.335057e-41</td>\n",
       "    </tr>\n",
       "    <tr>\n",
       "      <th>1</th>\n",
       "      <td>50046</td>\n",
       "      <td>1.0</td>\n",
       "      <td>0.0</td>\n",
       "      <td>1.0</td>\n",
       "      <td>0.0</td>\n",
       "      <td>1.000000</td>\n",
       "      <td>3.780459e-15</td>\n",
       "      <td>1.455097e-15</td>\n",
       "      <td>1.000000</td>\n",
       "      <td>1.985764e-09</td>\n",
       "      <td>0.000000e+00</td>\n",
       "      <td>1.0</td>\n",
       "      <td>0.000000e+00</td>\n",
       "      <td>0.000000e+00</td>\n",
       "    </tr>\n",
       "  </tbody>\n",
       "</table>\n",
       "</div>"
      ],
      "text/plain": [
       "   patient_id  bowel_healthy  bowel_injury  extravasation_healthy  \\\n",
       "0       48843            1.0           0.0                    1.0   \n",
       "1       50046            1.0           0.0                    1.0   \n",
       "\n",
       "   extravasation_injury  kidney_healthy    kidney_low   kidney_high  \\\n",
       "0                   0.0        0.999999  3.502256e-07  2.098973e-07   \n",
       "1                   0.0        1.000000  3.780459e-15  1.455097e-15   \n",
       "\n",
       "   liver_healthy     liver_low    liver_high  spleen_healthy    spleen_low  \\\n",
       "0       0.999914  8.634159e-05  8.628847e-30             1.0  3.040318e-21   \n",
       "1       1.000000  1.985764e-09  0.000000e+00             1.0  0.000000e+00   \n",
       "\n",
       "    spleen_high  \n",
       "0  4.335057e-41  \n",
       "1  0.000000e+00  "
      ]
     },
     "execution_count": 19,
     "metadata": {},
     "output_type": "execute_result"
    }
   ],
   "source": [
    "# Create Submission\n",
    "pred_df = pd.DataFrame({\"patient_id\":patient_ids,})\n",
    "pred_df[config.TARGET_COLS] = patient_preds.astype(\"float32\")\n",
    "\n",
    "# Align with sample submission\n",
    "sub_df = pd.read_csv(f\"{BASE_PATH}/sample_submission.csv\")\n",
    "sub_df = sub_df[[\"patient_id\"]]\n",
    "sub_df = sub_df.merge(pred_df, on=\"patient_id\", how=\"left\")\n",
    "\n",
    "# Store submission\n",
    "sub_df.to_csv(\"submission.csv\",index=False)\n",
    "sub_df.head(2)"
   ]
  }
 ],
 "metadata": {
  "kernelspec": {
   "display_name": "Python 3",
   "language": "python",
   "name": "python3"
  },
  "language_info": {
   "codemirror_mode": {
    "name": "ipython",
    "version": 3
   },
   "file_extension": ".py",
   "mimetype": "text/x-python",
   "name": "python",
   "nbconvert_exporter": "python",
   "pygments_lexer": "ipython3",
   "version": "3.10.12"
  },
  "papermill": {
   "default_parameters": {},
   "duration": 180.183762,
   "end_time": "2023-10-05T08:13:54.850569",
   "environment_variables": {},
   "exception": null,
   "input_path": "__notebook__.ipynb",
   "output_path": "__notebook__.ipynb",
   "parameters": {},
   "start_time": "2023-10-05T08:10:54.666807",
   "version": "2.4.0"
  },
  "widgets": {
   "application/vnd.jupyter.widget-state+json": {
    "state": {
     "040a70e648cc42bbae98bca66db31474": {
      "model_module": "@jupyter-widgets/base",
      "model_module_version": "1.2.0",
      "model_name": "LayoutModel",
      "state": {
       "_model_module": "@jupyter-widgets/base",
       "_model_module_version": "1.2.0",
       "_model_name": "LayoutModel",
       "_view_count": null,
       "_view_module": "@jupyter-widgets/base",
       "_view_module_version": "1.2.0",
       "_view_name": "LayoutView",
       "align_content": null,
       "align_items": null,
       "align_self": null,
       "border": null,
       "bottom": null,
       "display": null,
       "flex": null,
       "flex_flow": null,
       "grid_area": null,
       "grid_auto_columns": null,
       "grid_auto_flow": null,
       "grid_auto_rows": null,
       "grid_column": null,
       "grid_gap": null,
       "grid_row": null,
       "grid_template_areas": null,
       "grid_template_columns": null,
       "grid_template_rows": null,
       "height": null,
       "justify_content": null,
       "justify_items": null,
       "left": null,
       "margin": null,
       "max_height": null,
       "max_width": null,
       "min_height": null,
       "min_width": null,
       "object_fit": null,
       "object_position": null,
       "order": null,
       "overflow": null,
       "overflow_x": null,
       "overflow_y": null,
       "padding": null,
       "right": null,
       "top": null,
       "visibility": null,
       "width": null
      }
     },
     "0add17a7aada4f3f94a1f7d868b1eea6": {
      "model_module": "@jupyter-widgets/controls",
      "model_module_version": "1.5.0",
      "model_name": "HTMLModel",
      "state": {
       "_dom_classes": [],
       "_model_module": "@jupyter-widgets/controls",
       "_model_module_version": "1.5.0",
       "_model_name": "HTMLModel",
       "_view_count": null,
       "_view_module": "@jupyter-widgets/controls",
       "_view_module_version": "1.5.0",
       "_view_name": "HTMLView",
       "description": "",
       "description_tooltip": null,
       "layout": "IPY_MODEL_542c55d5e9aa407fb566c83019d52ad9",
       "placeholder": "​",
       "style": "IPY_MODEL_f7d19f84d9924eac95f1d44a6009b5d8",
       "value": "Patients : 100%"
      }
     },
     "0e2ba98fa6764770849a4a85363f6c3c": {
      "model_module": "@jupyter-widgets/base",
      "model_module_version": "1.2.0",
      "model_name": "LayoutModel",
      "state": {
       "_model_module": "@jupyter-widgets/base",
       "_model_module_version": "1.2.0",
       "_model_name": "LayoutModel",
       "_view_count": null,
       "_view_module": "@jupyter-widgets/base",
       "_view_module_version": "1.2.0",
       "_view_name": "LayoutView",
       "align_content": null,
       "align_items": null,
       "align_self": null,
       "border": null,
       "bottom": null,
       "display": null,
       "flex": null,
       "flex_flow": null,
       "grid_area": null,
       "grid_auto_columns": null,
       "grid_auto_flow": null,
       "grid_auto_rows": null,
       "grid_column": null,
       "grid_gap": null,
       "grid_row": null,
       "grid_template_areas": null,
       "grid_template_columns": null,
       "grid_template_rows": null,
       "height": null,
       "justify_content": null,
       "justify_items": null,
       "left": null,
       "margin": null,
       "max_height": null,
       "max_width": null,
       "min_height": null,
       "min_width": null,
       "object_fit": null,
       "object_position": null,
       "order": null,
       "overflow": null,
       "overflow_x": null,
       "overflow_y": null,
       "padding": null,
       "right": null,
       "top": null,
       "visibility": null,
       "width": null
      }
     },
     "0e8264c25555403aba71178c23170183": {
      "model_module": "@jupyter-widgets/base",
      "model_module_version": "1.2.0",
      "model_name": "LayoutModel",
      "state": {
       "_model_module": "@jupyter-widgets/base",
       "_model_module_version": "1.2.0",
       "_model_name": "LayoutModel",
       "_view_count": null,
       "_view_module": "@jupyter-widgets/base",
       "_view_module_version": "1.2.0",
       "_view_name": "LayoutView",
       "align_content": null,
       "align_items": null,
       "align_self": null,
       "border": null,
       "bottom": null,
       "display": null,
       "flex": null,
       "flex_flow": null,
       "grid_area": null,
       "grid_auto_columns": null,
       "grid_auto_flow": null,
       "grid_auto_rows": null,
       "grid_column": null,
       "grid_gap": null,
       "grid_row": null,
       "grid_template_areas": null,
       "grid_template_columns": null,
       "grid_template_rows": null,
       "height": null,
       "justify_content": null,
       "justify_items": null,
       "left": null,
       "margin": null,
       "max_height": null,
       "max_width": null,
       "min_height": null,
       "min_width": null,
       "object_fit": null,
       "object_position": null,
       "order": null,
       "overflow": null,
       "overflow_x": null,
       "overflow_y": null,
       "padding": null,
       "right": null,
       "top": null,
       "visibility": null,
       "width": null
      }
     },
     "2154717827784884ba18c4e68914d57d": {
      "model_module": "@jupyter-widgets/base",
      "model_module_version": "1.2.0",
      "model_name": "LayoutModel",
      "state": {
       "_model_module": "@jupyter-widgets/base",
       "_model_module_version": "1.2.0",
       "_model_name": "LayoutModel",
       "_view_count": null,
       "_view_module": "@jupyter-widgets/base",
       "_view_module_version": "1.2.0",
       "_view_name": "LayoutView",
       "align_content": null,
       "align_items": null,
       "align_self": null,
       "border": null,
       "bottom": null,
       "display": null,
       "flex": null,
       "flex_flow": null,
       "grid_area": null,
       "grid_auto_columns": null,
       "grid_auto_flow": null,
       "grid_auto_rows": null,
       "grid_column": null,
       "grid_gap": null,
       "grid_row": null,
       "grid_template_areas": null,
       "grid_template_columns": null,
       "grid_template_rows": null,
       "height": null,
       "justify_content": null,
       "justify_items": null,
       "left": null,
       "margin": null,
       "max_height": null,
       "max_width": null,
       "min_height": null,
       "min_width": null,
       "object_fit": null,
       "object_position": null,
       "order": null,
       "overflow": null,
       "overflow_x": null,
       "overflow_y": null,
       "padding": null,
       "right": null,
       "top": null,
       "visibility": null,
       "width": null
      }
     },
     "22482f561d3b446bb15fcaf857efa14b": {
      "model_module": "@jupyter-widgets/base",
      "model_module_version": "1.2.0",
      "model_name": "LayoutModel",
      "state": {
       "_model_module": "@jupyter-widgets/base",
       "_model_module_version": "1.2.0",
       "_model_name": "LayoutModel",
       "_view_count": null,
       "_view_module": "@jupyter-widgets/base",
       "_view_module_version": "1.2.0",
       "_view_name": "LayoutView",
       "align_content": null,
       "align_items": null,
       "align_self": null,
       "border": null,
       "bottom": null,
       "display": null,
       "flex": null,
       "flex_flow": null,
       "grid_area": null,
       "grid_auto_columns": null,
       "grid_auto_flow": null,
       "grid_auto_rows": null,
       "grid_column": null,
       "grid_gap": null,
       "grid_row": null,
       "grid_template_areas": null,
       "grid_template_columns": null,
       "grid_template_rows": null,
       "height": null,
       "justify_content": null,
       "justify_items": null,
       "left": null,
       "margin": null,
       "max_height": null,
       "max_width": null,
       "min_height": null,
       "min_width": null,
       "object_fit": null,
       "object_position": null,
       "order": null,
       "overflow": null,
       "overflow_x": null,
       "overflow_y": null,
       "padding": null,
       "right": null,
       "top": null,
       "visibility": null,
       "width": null
      }
     },
     "2d3feaa949974ad1a0cf98aab32ecc1c": {
      "model_module": "@jupyter-widgets/base",
      "model_module_version": "1.2.0",
      "model_name": "LayoutModel",
      "state": {
       "_model_module": "@jupyter-widgets/base",
       "_model_module_version": "1.2.0",
       "_model_name": "LayoutModel",
       "_view_count": null,
       "_view_module": "@jupyter-widgets/base",
       "_view_module_version": "1.2.0",
       "_view_name": "LayoutView",
       "align_content": null,
       "align_items": null,
       "align_self": null,
       "border": null,
       "bottom": null,
       "display": null,
       "flex": null,
       "flex_flow": null,
       "grid_area": null,
       "grid_auto_columns": null,
       "grid_auto_flow": null,
       "grid_auto_rows": null,
       "grid_column": null,
       "grid_gap": null,
       "grid_row": null,
       "grid_template_areas": null,
       "grid_template_columns": null,
       "grid_template_rows": null,
       "height": null,
       "justify_content": null,
       "justify_items": null,
       "left": null,
       "margin": null,
       "max_height": null,
       "max_width": null,
       "min_height": null,
       "min_width": null,
       "object_fit": null,
       "object_position": null,
       "order": null,
       "overflow": null,
       "overflow_x": null,
       "overflow_y": null,
       "padding": null,
       "right": null,
       "top": null,
       "visibility": null,
       "width": null
      }
     },
     "3a7b83a58f5443f7baf60a9466ff2a51": {
      "model_module": "@jupyter-widgets/controls",
      "model_module_version": "1.5.0",
      "model_name": "DescriptionStyleModel",
      "state": {
       "_model_module": "@jupyter-widgets/controls",
       "_model_module_version": "1.5.0",
       "_model_name": "DescriptionStyleModel",
       "_view_count": null,
       "_view_module": "@jupyter-widgets/base",
       "_view_module_version": "1.2.0",
       "_view_name": "StyleView",
       "description_width": ""
      }
     },
     "3efc3e785a4b4e1bb9d06f454568aed6": {
      "model_module": "@jupyter-widgets/controls",
      "model_module_version": "1.5.0",
      "model_name": "HTMLModel",
      "state": {
       "_dom_classes": [],
       "_model_module": "@jupyter-widgets/controls",
       "_model_module_version": "1.5.0",
       "_model_name": "HTMLModel",
       "_view_count": null,
       "_view_module": "@jupyter-widgets/controls",
       "_view_module_version": "1.5.0",
       "_view_name": "HTMLView",
       "description": "",
       "description_tooltip": null,
       "layout": "IPY_MODEL_57b2bd29234541cdaf0289055e735d4f",
       "placeholder": "​",
       "style": "IPY_MODEL_6dd954dfd0e8499792950c304c4576a9",
       "value": "100%"
      }
     },
     "44358004a1ac47c88101d327c1788b2c": {
      "model_module": "@jupyter-widgets/controls",
      "model_module_version": "1.5.0",
      "model_name": "HTMLModel",
      "state": {
       "_dom_classes": [],
       "_model_module": "@jupyter-widgets/controls",
       "_model_module_version": "1.5.0",
       "_model_name": "HTMLModel",
       "_view_count": null,
       "_view_module": "@jupyter-widgets/controls",
       "_view_module_version": "1.5.0",
       "_view_name": "HTMLView",
       "description": "",
       "description_tooltip": null,
       "layout": "IPY_MODEL_5009526c50f94f07adb15f2df91ea036",
       "placeholder": "​",
       "style": "IPY_MODEL_c031ae872b64463a846bd6120a92779c",
       "value": "100%"
      }
     },
     "4681bc02d19f468abf09a98577c68666": {
      "model_module": "@jupyter-widgets/controls",
      "model_module_version": "1.5.0",
      "model_name": "DescriptionStyleModel",
      "state": {
       "_model_module": "@jupyter-widgets/controls",
       "_model_module_version": "1.5.0",
       "_model_name": "DescriptionStyleModel",
       "_view_count": null,
       "_view_module": "@jupyter-widgets/base",
       "_view_module_version": "1.2.0",
       "_view_name": "StyleView",
       "description_width": ""
      }
     },
     "5009526c50f94f07adb15f2df91ea036": {
      "model_module": "@jupyter-widgets/base",
      "model_module_version": "1.2.0",
      "model_name": "LayoutModel",
      "state": {
       "_model_module": "@jupyter-widgets/base",
       "_model_module_version": "1.2.0",
       "_model_name": "LayoutModel",
       "_view_count": null,
       "_view_module": "@jupyter-widgets/base",
       "_view_module_version": "1.2.0",
       "_view_name": "LayoutView",
       "align_content": null,
       "align_items": null,
       "align_self": null,
       "border": null,
       "bottom": null,
       "display": null,
       "flex": null,
       "flex_flow": null,
       "grid_area": null,
       "grid_auto_columns": null,
       "grid_auto_flow": null,
       "grid_auto_rows": null,
       "grid_column": null,
       "grid_gap": null,
       "grid_row": null,
       "grid_template_areas": null,
       "grid_template_columns": null,
       "grid_template_rows": null,
       "height": null,
       "justify_content": null,
       "justify_items": null,
       "left": null,
       "margin": null,
       "max_height": null,
       "max_width": null,
       "min_height": null,
       "min_width": null,
       "object_fit": null,
       "object_position": null,
       "order": null,
       "overflow": null,
       "overflow_x": null,
       "overflow_y": null,
       "padding": null,
       "right": null,
       "top": null,
       "visibility": null,
       "width": null
      }
     },
     "542c55d5e9aa407fb566c83019d52ad9": {
      "model_module": "@jupyter-widgets/base",
      "model_module_version": "1.2.0",
      "model_name": "LayoutModel",
      "state": {
       "_model_module": "@jupyter-widgets/base",
       "_model_module_version": "1.2.0",
       "_model_name": "LayoutModel",
       "_view_count": null,
       "_view_module": "@jupyter-widgets/base",
       "_view_module_version": "1.2.0",
       "_view_name": "LayoutView",
       "align_content": null,
       "align_items": null,
       "align_self": null,
       "border": null,
       "bottom": null,
       "display": null,
       "flex": null,
       "flex_flow": null,
       "grid_area": null,
       "grid_auto_columns": null,
       "grid_auto_flow": null,
       "grid_auto_rows": null,
       "grid_column": null,
       "grid_gap": null,
       "grid_row": null,
       "grid_template_areas": null,
       "grid_template_columns": null,
       "grid_template_rows": null,
       "height": null,
       "justify_content": null,
       "justify_items": null,
       "left": null,
       "margin": null,
       "max_height": null,
       "max_width": null,
       "min_height": null,
       "min_width": null,
       "object_fit": null,
       "object_position": null,
       "order": null,
       "overflow": null,
       "overflow_x": null,
       "overflow_y": null,
       "padding": null,
       "right": null,
       "top": null,
       "visibility": null,
       "width": null
      }
     },
     "57b2bd29234541cdaf0289055e735d4f": {
      "model_module": "@jupyter-widgets/base",
      "model_module_version": "1.2.0",
      "model_name": "LayoutModel",
      "state": {
       "_model_module": "@jupyter-widgets/base",
       "_model_module_version": "1.2.0",
       "_model_name": "LayoutModel",
       "_view_count": null,
       "_view_module": "@jupyter-widgets/base",
       "_view_module_version": "1.2.0",
       "_view_name": "LayoutView",
       "align_content": null,
       "align_items": null,
       "align_self": null,
       "border": null,
       "bottom": null,
       "display": null,
       "flex": null,
       "flex_flow": null,
       "grid_area": null,
       "grid_auto_columns": null,
       "grid_auto_flow": null,
       "grid_auto_rows": null,
       "grid_column": null,
       "grid_gap": null,
       "grid_row": null,
       "grid_template_areas": null,
       "grid_template_columns": null,
       "grid_template_rows": null,
       "height": null,
       "justify_content": null,
       "justify_items": null,
       "left": null,
       "margin": null,
       "max_height": null,
       "max_width": null,
       "min_height": null,
       "min_width": null,
       "object_fit": null,
       "object_position": null,
       "order": null,
       "overflow": null,
       "overflow_x": null,
       "overflow_y": null,
       "padding": null,
       "right": null,
       "top": null,
       "visibility": null,
       "width": null
      }
     },
     "611bfcad479c4946994fb07ab0475870": {
      "model_module": "@jupyter-widgets/controls",
      "model_module_version": "1.5.0",
      "model_name": "ProgressStyleModel",
      "state": {
       "_model_module": "@jupyter-widgets/controls",
       "_model_module_version": "1.5.0",
       "_model_name": "ProgressStyleModel",
       "_view_count": null,
       "_view_module": "@jupyter-widgets/base",
       "_view_module_version": "1.2.0",
       "_view_name": "StyleView",
       "bar_color": null,
       "description_width": ""
      }
     },
     "62273e0bc12d4f00896ddeaf3044ca6d": {
      "model_module": "@jupyter-widgets/controls",
      "model_module_version": "1.5.0",
      "model_name": "ProgressStyleModel",
      "state": {
       "_model_module": "@jupyter-widgets/controls",
       "_model_module_version": "1.5.0",
       "_model_name": "ProgressStyleModel",
       "_view_count": null,
       "_view_module": "@jupyter-widgets/base",
       "_view_module_version": "1.2.0",
       "_view_name": "StyleView",
       "bar_color": null,
       "description_width": ""
      }
     },
     "651912e6a6224c49a461af4d79f64d8c": {
      "model_module": "@jupyter-widgets/base",
      "model_module_version": "1.2.0",
      "model_name": "LayoutModel",
      "state": {
       "_model_module": "@jupyter-widgets/base",
       "_model_module_version": "1.2.0",
       "_model_name": "LayoutModel",
       "_view_count": null,
       "_view_module": "@jupyter-widgets/base",
       "_view_module_version": "1.2.0",
       "_view_name": "LayoutView",
       "align_content": null,
       "align_items": null,
       "align_self": null,
       "border": null,
       "bottom": null,
       "display": null,
       "flex": null,
       "flex_flow": null,
       "grid_area": null,
       "grid_auto_columns": null,
       "grid_auto_flow": null,
       "grid_auto_rows": null,
       "grid_column": null,
       "grid_gap": null,
       "grid_row": null,
       "grid_template_areas": null,
       "grid_template_columns": null,
       "grid_template_rows": null,
       "height": null,
       "justify_content": null,
       "justify_items": null,
       "left": null,
       "margin": null,
       "max_height": null,
       "max_width": null,
       "min_height": null,
       "min_width": null,
       "object_fit": null,
       "object_position": null,
       "order": null,
       "overflow": null,
       "overflow_x": null,
       "overflow_y": null,
       "padding": null,
       "right": null,
       "top": null,
       "visibility": null,
       "width": null
      }
     },
     "6dd954dfd0e8499792950c304c4576a9": {
      "model_module": "@jupyter-widgets/controls",
      "model_module_version": "1.5.0",
      "model_name": "DescriptionStyleModel",
      "state": {
       "_model_module": "@jupyter-widgets/controls",
       "_model_module_version": "1.5.0",
       "_model_name": "DescriptionStyleModel",
       "_view_count": null,
       "_view_module": "@jupyter-widgets/base",
       "_view_module_version": "1.2.0",
       "_view_name": "StyleView",
       "description_width": ""
      }
     },
     "7d9d92af8e944ce39520f873a1f4efb8": {
      "model_module": "@jupyter-widgets/controls",
      "model_module_version": "1.5.0",
      "model_name": "HBoxModel",
      "state": {
       "_dom_classes": [],
       "_model_module": "@jupyter-widgets/controls",
       "_model_module_version": "1.5.0",
       "_model_name": "HBoxModel",
       "_view_count": null,
       "_view_module": "@jupyter-widgets/controls",
       "_view_module_version": "1.5.0",
       "_view_name": "HBoxView",
       "box_style": "",
       "children": [
        "IPY_MODEL_3efc3e785a4b4e1bb9d06f454568aed6",
        "IPY_MODEL_be7cbd2359ec40fb9e70adc34f9a588a",
        "IPY_MODEL_addf701a91ff49be81ee0d64e1d71471"
       ],
       "layout": "IPY_MODEL_c27f37671f294413a17b63161080c159"
      }
     },
     "860c05827bdc4d98a16f6e50cad7df98": {
      "model_module": "@jupyter-widgets/base",
      "model_module_version": "1.2.0",
      "model_name": "LayoutModel",
      "state": {
       "_model_module": "@jupyter-widgets/base",
       "_model_module_version": "1.2.0",
       "_model_name": "LayoutModel",
       "_view_count": null,
       "_view_module": "@jupyter-widgets/base",
       "_view_module_version": "1.2.0",
       "_view_name": "LayoutView",
       "align_content": null,
       "align_items": null,
       "align_self": null,
       "border": null,
       "bottom": null,
       "display": null,
       "flex": null,
       "flex_flow": null,
       "grid_area": null,
       "grid_auto_columns": null,
       "grid_auto_flow": null,
       "grid_auto_rows": null,
       "grid_column": null,
       "grid_gap": null,
       "grid_row": null,
       "grid_template_areas": null,
       "grid_template_columns": null,
       "grid_template_rows": null,
       "height": null,
       "justify_content": null,
       "justify_items": null,
       "left": null,
       "margin": null,
       "max_height": null,
       "max_width": null,
       "min_height": null,
       "min_width": null,
       "object_fit": null,
       "object_position": null,
       "order": null,
       "overflow": null,
       "overflow_x": null,
       "overflow_y": null,
       "padding": null,
       "right": null,
       "top": null,
       "visibility": null,
       "width": null
      }
     },
     "98f0f7498e564b3494e7b2b255448b1b": {
      "model_module": "@jupyter-widgets/controls",
      "model_module_version": "1.5.0",
      "model_name": "FloatProgressModel",
      "state": {
       "_dom_classes": [],
       "_model_module": "@jupyter-widgets/controls",
       "_model_module_version": "1.5.0",
       "_model_name": "FloatProgressModel",
       "_view_count": null,
       "_view_module": "@jupyter-widgets/controls",
       "_view_module_version": "1.5.0",
       "_view_name": "ProgressView",
       "bar_style": "success",
       "description": "",
       "description_tooltip": null,
       "layout": "IPY_MODEL_0e8264c25555403aba71178c23170183",
       "max": 6.0,
       "min": 0.0,
       "orientation": "horizontal",
       "style": "IPY_MODEL_62273e0bc12d4f00896ddeaf3044ca6d",
       "value": 6.0
      }
     },
     "a9996d82b353408190534c0ad4a68833": {
      "model_module": "@jupyter-widgets/controls",
      "model_module_version": "1.5.0",
      "model_name": "HBoxModel",
      "state": {
       "_dom_classes": [],
       "_model_module": "@jupyter-widgets/controls",
       "_model_module_version": "1.5.0",
       "_model_name": "HBoxModel",
       "_view_count": null,
       "_view_module": "@jupyter-widgets/controls",
       "_view_module_version": "1.5.0",
       "_view_name": "HBoxView",
       "box_style": "",
       "children": [
        "IPY_MODEL_44358004a1ac47c88101d327c1788b2c",
        "IPY_MODEL_98f0f7498e564b3494e7b2b255448b1b",
        "IPY_MODEL_dcd2838e2c6d46c4986be354c56b176f"
       ],
       "layout": "IPY_MODEL_2d3feaa949974ad1a0cf98aab32ecc1c"
      }
     },
     "addf701a91ff49be81ee0d64e1d71471": {
      "model_module": "@jupyter-widgets/controls",
      "model_module_version": "1.5.0",
      "model_name": "HTMLModel",
      "state": {
       "_dom_classes": [],
       "_model_module": "@jupyter-widgets/controls",
       "_model_module_version": "1.5.0",
       "_model_name": "HTMLModel",
       "_view_count": null,
       "_view_module": "@jupyter-widgets/controls",
       "_view_module_version": "1.5.0",
       "_view_name": "HTMLView",
       "description": "",
       "description_tooltip": null,
       "layout": "IPY_MODEL_860c05827bdc4d98a16f6e50cad7df98",
       "placeholder": "​",
       "style": "IPY_MODEL_3a7b83a58f5443f7baf60a9466ff2a51",
       "value": " 3/3 [00:00&lt;00:00, 205.53it/s]"
      }
     },
     "be7cbd2359ec40fb9e70adc34f9a588a": {
      "model_module": "@jupyter-widgets/controls",
      "model_module_version": "1.5.0",
      "model_name": "FloatProgressModel",
      "state": {
       "_dom_classes": [],
       "_model_module": "@jupyter-widgets/controls",
       "_model_module_version": "1.5.0",
       "_model_name": "FloatProgressModel",
       "_view_count": null,
       "_view_module": "@jupyter-widgets/controls",
       "_view_module_version": "1.5.0",
       "_view_name": "ProgressView",
       "bar_style": "success",
       "description": "",
       "description_tooltip": null,
       "layout": "IPY_MODEL_0e2ba98fa6764770849a4a85363f6c3c",
       "max": 3.0,
       "min": 0.0,
       "orientation": "horizontal",
       "style": "IPY_MODEL_c794e2ce45334cab9917abe884baea21",
       "value": 3.0
      }
     },
     "c031ae872b64463a846bd6120a92779c": {
      "model_module": "@jupyter-widgets/controls",
      "model_module_version": "1.5.0",
      "model_name": "DescriptionStyleModel",
      "state": {
       "_model_module": "@jupyter-widgets/controls",
       "_model_module_version": "1.5.0",
       "_model_name": "DescriptionStyleModel",
       "_view_count": null,
       "_view_module": "@jupyter-widgets/base",
       "_view_module_version": "1.2.0",
       "_view_name": "StyleView",
       "description_width": ""
      }
     },
     "c27f37671f294413a17b63161080c159": {
      "model_module": "@jupyter-widgets/base",
      "model_module_version": "1.2.0",
      "model_name": "LayoutModel",
      "state": {
       "_model_module": "@jupyter-widgets/base",
       "_model_module_version": "1.2.0",
       "_model_name": "LayoutModel",
       "_view_count": null,
       "_view_module": "@jupyter-widgets/base",
       "_view_module_version": "1.2.0",
       "_view_name": "LayoutView",
       "align_content": null,
       "align_items": null,
       "align_self": null,
       "border": null,
       "bottom": null,
       "display": null,
       "flex": null,
       "flex_flow": null,
       "grid_area": null,
       "grid_auto_columns": null,
       "grid_auto_flow": null,
       "grid_auto_rows": null,
       "grid_column": null,
       "grid_gap": null,
       "grid_row": null,
       "grid_template_areas": null,
       "grid_template_columns": null,
       "grid_template_rows": null,
       "height": null,
       "justify_content": null,
       "justify_items": null,
       "left": null,
       "margin": null,
       "max_height": null,
       "max_width": null,
       "min_height": null,
       "min_width": null,
       "object_fit": null,
       "object_position": null,
       "order": null,
       "overflow": null,
       "overflow_x": null,
       "overflow_y": null,
       "padding": null,
       "right": null,
       "top": null,
       "visibility": null,
       "width": null
      }
     },
     "c6c234d048ea471baa10883ca1397f72": {
      "model_module": "@jupyter-widgets/controls",
      "model_module_version": "1.5.0",
      "model_name": "HBoxModel",
      "state": {
       "_dom_classes": [],
       "_model_module": "@jupyter-widgets/controls",
       "_model_module_version": "1.5.0",
       "_model_name": "HBoxModel",
       "_view_count": null,
       "_view_module": "@jupyter-widgets/controls",
       "_view_module_version": "1.5.0",
       "_view_name": "HBoxView",
       "box_style": "",
       "children": [
        "IPY_MODEL_0add17a7aada4f3f94a1f7d868b1eea6",
        "IPY_MODEL_f1f91e919b314b46ae5e019d55c81d68",
        "IPY_MODEL_ce76723d245e4d0d8834f0f21fd8cd03"
       ],
       "layout": "IPY_MODEL_2154717827784884ba18c4e68914d57d"
      }
     },
     "c794e2ce45334cab9917abe884baea21": {
      "model_module": "@jupyter-widgets/controls",
      "model_module_version": "1.5.0",
      "model_name": "ProgressStyleModel",
      "state": {
       "_model_module": "@jupyter-widgets/controls",
       "_model_module_version": "1.5.0",
       "_model_name": "ProgressStyleModel",
       "_view_count": null,
       "_view_module": "@jupyter-widgets/base",
       "_view_module_version": "1.2.0",
       "_view_name": "StyleView",
       "bar_color": null,
       "description_width": ""
      }
     },
     "ce76723d245e4d0d8834f0f21fd8cd03": {
      "model_module": "@jupyter-widgets/controls",
      "model_module_version": "1.5.0",
      "model_name": "HTMLModel",
      "state": {
       "_dom_classes": [],
       "_model_module": "@jupyter-widgets/controls",
       "_model_module_version": "1.5.0",
       "_model_name": "HTMLModel",
       "_view_count": null,
       "_view_module": "@jupyter-widgets/controls",
       "_view_module_version": "1.5.0",
       "_view_name": "HTMLView",
       "description": "",
       "description_tooltip": null,
       "layout": "IPY_MODEL_22482f561d3b446bb15fcaf857efa14b",
       "placeholder": "​",
       "style": "IPY_MODEL_cf3481d1b91b4ee29222b9aaded3e6bd",
       "value": " 3/3 [00:16&lt;00:00,  3.69s/it]"
      }
     },
     "cf3481d1b91b4ee29222b9aaded3e6bd": {
      "model_module": "@jupyter-widgets/controls",
      "model_module_version": "1.5.0",
      "model_name": "DescriptionStyleModel",
      "state": {
       "_model_module": "@jupyter-widgets/controls",
       "_model_module_version": "1.5.0",
       "_model_name": "DescriptionStyleModel",
       "_view_count": null,
       "_view_module": "@jupyter-widgets/base",
       "_view_module_version": "1.2.0",
       "_view_name": "StyleView",
       "description_width": ""
      }
     },
     "dcd2838e2c6d46c4986be354c56b176f": {
      "model_module": "@jupyter-widgets/controls",
      "model_module_version": "1.5.0",
      "model_name": "HTMLModel",
      "state": {
       "_dom_classes": [],
       "_model_module": "@jupyter-widgets/controls",
       "_model_module_version": "1.5.0",
       "_model_name": "HTMLModel",
       "_view_count": null,
       "_view_module": "@jupyter-widgets/controls",
       "_view_module_version": "1.5.0",
       "_view_name": "HTMLView",
       "description": "",
       "description_tooltip": null,
       "layout": "IPY_MODEL_651912e6a6224c49a461af4d79f64d8c",
       "placeholder": "​",
       "style": "IPY_MODEL_4681bc02d19f468abf09a98577c68666",
       "value": " 6/6 [00:00&lt;00:00, 124.63it/s]"
      }
     },
     "f1f91e919b314b46ae5e019d55c81d68": {
      "model_module": "@jupyter-widgets/controls",
      "model_module_version": "1.5.0",
      "model_name": "FloatProgressModel",
      "state": {
       "_dom_classes": [],
       "_model_module": "@jupyter-widgets/controls",
       "_model_module_version": "1.5.0",
       "_model_name": "FloatProgressModel",
       "_view_count": null,
       "_view_module": "@jupyter-widgets/controls",
       "_view_module_version": "1.5.0",
       "_view_name": "ProgressView",
       "bar_style": "success",
       "description": "",
       "description_tooltip": null,
       "layout": "IPY_MODEL_040a70e648cc42bbae98bca66db31474",
       "max": 3.0,
       "min": 0.0,
       "orientation": "horizontal",
       "style": "IPY_MODEL_611bfcad479c4946994fb07ab0475870",
       "value": 3.0
      }
     },
     "f7d19f84d9924eac95f1d44a6009b5d8": {
      "model_module": "@jupyter-widgets/controls",
      "model_module_version": "1.5.0",
      "model_name": "DescriptionStyleModel",
      "state": {
       "_model_module": "@jupyter-widgets/controls",
       "_model_module_version": "1.5.0",
       "_model_name": "DescriptionStyleModel",
       "_view_count": null,
       "_view_module": "@jupyter-widgets/base",
       "_view_module_version": "1.2.0",
       "_view_name": "StyleView",
       "description_width": ""
      }
     }
    },
    "version_major": 2,
    "version_minor": 0
   }
  }
 },
 "nbformat": 4,
 "nbformat_minor": 5
}
